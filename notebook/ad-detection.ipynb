{
 "cells": [
  {
   "cell_type": "markdown",
   "id": "3543e457",
   "metadata": {},
   "source": [
    "# Loading data\n",
    "- Initially, I had multiple datasets containing lists of only ad servers and non-ad servers. I combined them all to create a dataset 'all.csv'.\n",
    "- Since all.csv had multiple overlapping entries, I deleted the duplicates and saved it as another file 'all-without-duplicates'\n",
    "```\n",
    "df = pd.read_csv(\"../lists/all.csv\",converters={'domain': convert_dtype,'class': convert_dtype}) \n",
    "df = df.drop_duplicates()\n",
    "df.to_csv('../lists/all-without-duplicates.csv')\n",
    "\n",
    "```\n"
   ]
  },
  {
   "cell_type": "code",
   "execution_count": 3,
   "id": "ec64c483",
   "metadata": {},
   "outputs": [
    {
     "name": "stderr",
     "output_type": "stream",
     "text": [
      "2023-02-21 13:20:48.941347: I tensorflow/core/platform/cpu_feature_guard.cc:193] This TensorFlow binary is optimized with oneAPI Deep Neural Network Library (oneDNN) to use the following CPU instructions in performance-critical operations:  AVX2 FMA\n",
      "To enable them in other operations, rebuild TensorFlow with the appropriate compiler flags.\n",
      "2023-02-21 13:20:49.058630: W tensorflow/compiler/xla/stream_executor/platform/default/dso_loader.cc:64] Could not load dynamic library 'libcudart.so.11.0'; dlerror: libcudart.so.11.0: cannot open shared object file: No such file or directory\n",
      "2023-02-21 13:20:49.058653: I tensorflow/compiler/xla/stream_executor/cuda/cudart_stub.cc:29] Ignore above cudart dlerror if you do not have a GPU set up on your machine.\n",
      "2023-02-21 13:20:49.813248: W tensorflow/compiler/xla/stream_executor/platform/default/dso_loader.cc:64] Could not load dynamic library 'libnvinfer.so.7'; dlerror: libnvinfer.so.7: cannot open shared object file: No such file or directory\n",
      "2023-02-21 13:20:49.813359: W tensorflow/compiler/xla/stream_executor/platform/default/dso_loader.cc:64] Could not load dynamic library 'libnvinfer_plugin.so.7'; dlerror: libnvinfer_plugin.so.7: cannot open shared object file: No such file or directory\n",
      "2023-02-21 13:20:49.813368: W tensorflow/compiler/tf2tensorrt/utils/py_utils.cc:38] TF-TRT Warning: Cannot dlopen some TensorRT libraries. If you would like to use Nvidia GPU with TensorRT, please make sure the missing libraries mentioned above are installed properly.\n"
     ]
    }
   ],
   "source": [
    "import pandas as pd\n",
    "import re\n",
    "import traceback\n",
    "import pandas as pd\n",
    "import numpy as np\n",
    "from sklearn.model_selection import train_test_split\n",
    "from keras.models import Sequential\n",
    "from keras.layers import Dense\n",
    "from keras.optimizers import Adam\n",
    "from keras.callbacks import EarlyStopping\n"
   ]
  },
  {
   "cell_type": "code",
   "execution_count": null,
   "id": "dcee9bcc",
   "metadata": {},
   "outputs": [],
   "source": [
    "#Convert dtypes for fixing Dtypewarning\n",
    "# https://www.roelpeters.be/solved-dtypewarning-columns-have-mixed-types-specify-dtype-option-on-import-or-set-low-memory-in-pandas/\n",
    "def convert_dtype(x):\n",
    "    if not x:\n",
    "        return ''\n",
    "    try:\n",
    "        return str(x)   \n",
    "    except:        \n",
    "        return ''\n",
    "\n",
    "df = pd.read_csv(\"../lists/all-without-duplicates.csv\",converters={'domain': convert_dtype,'class': convert_dtype}) # Dataset is now stored in a Pandas Dataframe\n",
    "#df = pd.read_csv(\"../lists/all.csv\",converters={'domain': convert_dtype,'class': convert_dtype})\n",
    "#df = df.drop_duplicates()\n",
    "#df['class'] = df['class'].map({'1': '0', '0': '1'}) # issue w original dataset where non ads were marked as 1 and ads as 0. This reverses it.\n",
    "#df.to_csv('../lists/all-without-duplicates.csv')\n",
    "df"
   ]
  },
  {
   "cell_type": "markdown",
   "id": "b2e1fe32",
   "metadata": {},
   "source": [
    "# Preprocessing and feature extraction\n",
    "This block of code is used for preprocessing the dataset, removing unwanted patterns, and extracting meaningful features from the dataset. Here, the features extracted are has_ad(does it contain the word 'ad'), is_subdomain(does it contain the subdomain 'www'),num_dots(number of dots in the url, excluding subdomain if any),num_hyphens(number of hyphens), num_digits(number of digits in the URL)\n"
   ]
  },
  {
   "cell_type": "code",
   "execution_count": 32,
   "id": "1368e6a5",
   "metadata": {},
   "outputs": [],
   "source": [
    "# Define regular expressions for pattern matching\n",
    "ad_pattern = r'\\b(ad|ads)\\b'\n",
    "subdomain_pattern = r'^www\\.'\n",
    "dot_pattern = r'.'\n",
    "hyphen_pattern = r'-'\n",
    "digit_pattern = r'\\d'\n",
    "\n",
    "# Define the batch size and the input/output file paths\n",
    "batch_size = 10000\n",
    "input_file = '../lists/all-without-duplicates.csv'\n",
    "output_file = '../lists/preprocessed.csv'\n",
    "\n",
    "# Open the input and output files\n",
    "with open(input_file, 'r') as f_in, open(output_file, 'w') as f_out:\n",
    "    # Read the CSV file in chunks\n",
    "    for chunk in pd.read_csv(f_in, chunksize=batch_size):\n",
    "        # Preprocess the URLs in the current chunk\n",
    "        #for url in chunk['url']:\n",
    "        for index, row in chunk.iterrows():\n",
    "            url = row['url']\n",
    "            is_ad = row['class']\n",
    "            has_ad = int(bool(re.search(ad_pattern, url)))\n",
    "            is_subdomain = int(bool(re.search(subdomain_pattern, url)))\n",
    "            num_dots = url.count(dot_pattern) #- is_subdomain\n",
    "            if (is_subdomain == 1):\n",
    "                num_dots = num_dots - 1;\n",
    "            num_hyphens = url.count(hyphen_pattern)\n",
    "            num_digits = len(re.findall(digit_pattern, url))\n",
    "\n",
    "            # Write the preprocessed features to the output file\n",
    "            f_out.write(f'{url},{has_ad},{is_subdomain},{num_dots},{num_hyphens},{num_digits},{is_ad}\\n')\n"
   ]
  },
  {
   "cell_type": "code",
   "execution_count": null,
   "id": "21cd885f",
   "metadata": {},
   "outputs": [],
   "source": []
  },
  {
   "cell_type": "code",
   "execution_count": null,
   "id": "4f7a9d4e",
   "metadata": {},
   "outputs": [],
   "source": [
    "\n",
    "\n",
    "# Set the random seed for reproducibility\n",
    "np.random.seed(42)\n",
    "\n",
    "# Define the batch size, the number of epochs, and the input file path\n",
    "batch_size = 32\n",
    "epochs = 100\n",
    "input_file = 'output.csv'\n",
    "\n",
    "# Load the preprocessed features and the class label into a Pandas DataFrame\n",
    "data = pd.read_csv(input_file, header=None, names=['url', 'has_ad', 'is_subdomain', 'num_dots', 'num_hyphens', 'num_digits', 'class'])\n",
    "\n",
    "# Split the data into training and validation sets\n",
    "train_data, val_data = train_test_split(data, test_size=0.2, stratify=data['class'])\n",
    "\n",
    "# Define the input shape of the neural network\n",
    "input_shape = (train_data.shape[1] - 1,)\n",
    "\n",
    "# Build the neural network model\n",
    "model = Sequential()\n",
    "model.add(Dense(64, input_shape=input_shape, activation='relu'))\n",
    "model.add(Dense(32, activation='relu'))\n",
    "model.add(Dense(1, activation='sigmoid'))\n",
    "\n",
    "# Compile the model\n",
    "model.compile(optimizer=Adam(lr=1e-3), loss='binary_crossentropy', metrics=['accuracy'])\n",
    "\n",
    "# Define the early stopping criteria\n",
    "early_stop = EarlyStopping(monitor='val_loss', patience=10, restore_best_weights=True)\n",
    "\n",
    "# Train the model\n",
    "model.fit(train_data.iloc[:, :-1], train_data.iloc[:, -1], batch_size=batch_size, epochs=epochs, validation_data=(val_data.iloc[:, :-1], val_data.iloc[:, -1]), callbacks=[early_stop])\n",
    "\n",
    "# Evaluate the model on the validation set\n",
    "loss, acc = model.evaluate(val_data.iloc[:, :-1], val_data.iloc[:, -1], batch_size=batch_size)\n",
    "print('Validation accuracy:', acc)\n"
   ]
  }
 ],
 "metadata": {
  "kernelspec": {
   "display_name": "Python 3 (ipykernel)",
   "language": "python",
   "name": "python3"
  },
  "language_info": {
   "codemirror_mode": {
    "name": "ipython",
    "version": 3
   },
   "file_extension": ".py",
   "mimetype": "text/x-python",
   "name": "python",
   "nbconvert_exporter": "python",
   "pygments_lexer": "ipython3",
   "version": "3.10.9"
  },
  "vscode": {
   "interpreter": {
    "hash": "a9b8481c5c7b37e308517ae4fa47380f470b474e6830fa4718415fe969c43feb"
   }
  }
 },
 "nbformat": 4,
 "nbformat_minor": 5
}
