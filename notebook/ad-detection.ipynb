{
 "cells": [
  {
   "cell_type": "markdown",
   "id": "3543e457",
   "metadata": {},
   "source": [
    "# Loading data\n",
    "- Initially, I had multiple datasets containing lists of only ad servers and non-ad servers. I combined them all to create a dataset 'all.csv'.\n",
    "- Since all.csv had multiple overlapping entries, I deleted the duplicates and saved it as another file 'all-without-duplicates'\n",
    "```\n",
    "df = pd.read_csv(\"../lists/all.csv\",converters={'domain': convert_dtype,'class': convert_dtype}) \n",
    "df = df.drop_duplicates()\n",
    "df.to_csv('../lists/all-without-duplicates.csv')\n",
    "\n",
    "```\n"
   ]
  },
  {
   "cell_type": "code",
   "execution_count": 7,
   "id": "ec64c483",
   "metadata": {},
   "outputs": [],
   "source": [
    "import pandas as pd\n",
    "#Convert dtypes for fixing Dtypewarning\n",
    "# https://www.roelpeters.be/solved-dtypewarning-columns-have-mixed-types-specify-dtype-option-on-import-or-set-low-memory-in-pandas/\n",
    "def convert_dtype(x):\n",
    "    if not x:\n",
    "        return ''\n",
    "    try:\n",
    "        return str(x)   \n",
    "    except:        \n",
    "        return ''\n",
    "\n",
    "df = pd.read_csv(\"../lists/all-without-duplicates.csv\",converters={'domain': convert_dtype,'class': convert_dtype}) # Dataset is now stored in a Pandas Dataframe\n",
    "#df = df.drop_duplicates()\n",
    "#df.to_csv('../lists/all-without-duplicates.csv')\n",
    "df"
   ]
  },
  {
   "cell_type": "code",
   "execution_count": null,
   "id": "1368e6a5",
   "metadata": {},
   "outputs": [],
   "source": []
  }
 ],
 "metadata": {
  "kernelspec": {
   "display_name": "diss-ml",
   "language": "python",
   "name": "python3"
  },
  "language_info": {
   "codemirror_mode": {
    "name": "ipython",
    "version": 3
   },
   "file_extension": ".py",
   "mimetype": "text/x-python",
   "name": "python",
   "nbconvert_exporter": "python",
   "pygments_lexer": "ipython3",
   "version": "3.10.9"
  },
  "vscode": {
   "interpreter": {
    "hash": "a9b8481c5c7b37e308517ae4fa47380f470b474e6830fa4718415fe969c43feb"
   }
  }
 },
 "nbformat": 4,
 "nbformat_minor": 5
}
